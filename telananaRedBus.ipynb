{
 "cells": [
  {
   "cell_type": "code",
   "execution_count": 9,
   "metadata": {},
   "outputs": [],
   "source": [
    "import time\n",
    "from selenium import webdriver\n",
    "from selenium.webdriver.common.by import By\n",
    "from selenium.webdriver.common.keys import Keys\n",
    "\n",
    "driver = webdriver.Chrome()  # Optional argument, if not specified will search path.\n",
    "driver.get('https://www.redbus.in/online-booking/tsrtc/?utm_source=rtchometile')\n",
    "time.sleep(2)  # Let the page load\n",
    "\n",
    "body = driver.find_element(By.TAG_NAME, \"body\")\n",
    "telangana_buses_list=[]\n",
    "telangana_buses_links=[]\n",
    "\n",
    "for page_num in range(1, 4):  # Loop over pages (or scroll actions)\n",
    "    # Get all elements with class 'route'\n",
    "    result1 = driver.find_elements(By.CSS_SELECTOR, \"a[class='route']\")\n",
    "    \n",
    "    # Print the text of each element found\n",
    "    for element in result1:\n",
    "        telangana_buses_list.append(element.text)\n",
    "        telangana_buses_links.append(element.get_attribute('href'))\n",
    "    \n",
    "    # Scroll down the page\n",
    "    body.send_keys(Keys.PAGE_DOWN)\n",
    "    time.sleep(2)  # Give some time for new elements to load\n",
    "    \n",
    "    # Find an element matching the XPATH and click (if needed)\n",
    "    result = driver.find_elements(By.XPATH, f\"//div[contains(text(),'{page_num+1}')]\")\n",
    "    #print(result)\n",
    "    if result:\n",
    "        result[0].click()  # Click the first element found with matching XPATH\n",
    "\n",
    "#driver.quit()  # Close the browser after task completion\n"
   ]
  },
  {
   "cell_type": "code",
   "execution_count": 10,
   "metadata": {},
   "outputs": [
    {
     "name": "stdout",
     "output_type": "stream",
     "text": [
      "https://www.redbus.in/bus-tickets/khammam-to-hyderabad\n",
      "https://www.redbus.in/bus-tickets/hyderabad-to-vijayawada\n",
      "https://www.redbus.in/bus-tickets/hyderabad-to-khammam\n",
      "https://www.redbus.in/bus-tickets/hyderabad-to-srisailam\n",
      "https://www.redbus.in/bus-tickets/karimnagar-to-hyderabad\n",
      "https://www.redbus.in/bus-tickets/hyderabad-to-adilabad\n",
      "https://www.redbus.in/bus-tickets/kothagudem-to-hyderabad\n",
      "https://www.redbus.in/bus-tickets/hyderabad-to-mancherial\n",
      "https://www.redbus.in/bus-tickets/guntur-to-hyderabad\n",
      "https://www.redbus.in/bus-tickets/godavarikhani-to-hyderabad\n",
      "https://www.redbus.in/bus-tickets/kodad-to-hyderabad\n",
      "https://www.redbus.in/bus-tickets/hyderabad-to-ongole\n",
      "https://www.redbus.in/bus-tickets/jagityal-to-hyderabad\n",
      "https://www.redbus.in/bus-tickets/hyderabad-to-nirmal\n",
      "https://www.redbus.in/bus-tickets/hyderabad-to-guntur\n",
      "https://www.redbus.in/bus-tickets/hyderabad-to-karimnagar\n",
      "https://www.redbus.in/bus-tickets/hyderabad-to-kothagudem\n",
      "https://www.redbus.in/bus-tickets/hyderabad-to-bhadrachalam\n",
      "https://www.redbus.in/bus-tickets/hyderabad-to-sathupalli\n",
      "https://www.redbus.in/bus-tickets/hyderabad-to-warangal\n",
      "https://www.redbus.in/bus-tickets/hyderabad-to-tirupathi\n",
      "https://www.redbus.in/bus-tickets/hyderabad-to-ananthapur\n",
      "https://www.redbus.in/bus-tickets/hyderabad-to-armoor\n",
      "https://www.redbus.in/bus-tickets/hyderabad-to-godavarikhani\n",
      "https://www.redbus.in/bus-tickets/peddapalli-telangana-to-hyderabad\n",
      "https://www.redbus.in/bus-tickets/hyderabad-to-kodad\n"
     ]
    }
   ],
   "source": [
    "for i in telangana_buses_links:\n",
    "    print(i)\n"
   ]
  },
  {
   "cell_type": "code",
   "execution_count": 11,
   "metadata": {},
   "outputs": [
    {
     "name": "stdout",
     "output_type": "stream",
     "text": [
      "Khammam to Hyderabad\n",
      "Hyderabad to Vijayawada\n",
      "Hyderabad to Khammam\n",
      "Hyderabad to Srisailam\n",
      "Karimnagar to Hyderabad\n",
      "Hyderabad to Adilabad\n",
      "Kothagudem to Hyderabad\n",
      "Hyderabad to Mancherial\n",
      "Guntur (Andhra Pradesh) to Hyderabad\n",
      "Godavarikhani to Hyderabad\n",
      "Kodad to Hyderabad\n",
      "Hyderabad to Ongole\n",
      "Jagityal to Hyderabad\n",
      "Hyderabad to Nirmal\n",
      "Hyderabad to Guntur (Andhra Pradesh)\n",
      "Hyderabad to Karimnagar\n",
      "Hyderabad to Kothagudem\n",
      "Hyderabad to Bhadrachalam\n",
      "Hyderabad to Sathupally\n",
      "Hyderabad to Warangal\n",
      "Hyderabad to Tirupati\n",
      "Hyderabad to Anantapur (andhra pradesh)\n",
      "Hyderabad to Armoor\n",
      "Hyderabad to Godavarikhani\n",
      "Peddapalli (Telangana) to Hyderabad\n",
      "Hyderabad to Kodad\n"
     ]
    }
   ],
   "source": [
    "for i in telangana_buses_list:\n",
    "    print(i)"
   ]
  },
  {
   "cell_type": "code",
   "execution_count": 12,
   "metadata": {},
   "outputs": [],
   "source": [
    "buses_list=[]\n",
    "bus_type_list=[]\n",
    "departing_time_list=[]\n",
    "reaching_time_list=[]\n",
    "duration_list=[]\n",
    "star_rating_list=[]\n",
    "price_list=[]\n",
    "seats_available_list=[]\n",
    "route_name=[]\n",
    "route_link=[]"
   ]
  },
  {
   "cell_type": "code",
   "execution_count": 13,
   "metadata": {},
   "outputs": [],
   "source": [
    " # Let the page load\n",
    "import time\n",
    "from selenium import webdriver\n",
    "from selenium.webdriver.common.by import By\n",
    "from selenium.webdriver.common.keys import Keys\n",
    "\n",
    "driver = webdriver.Chrome()  # Optional argument, if not specified will search path.\n",
    "driver.get('https://www.redbus.in/bus-tickets/khammam-to-hyderabad?fromCityId=401&toCityId=124&fromCityName=Khammam&toCityName=Hyderabad&busType=Any&srcCountry=IND&destCountry=null&onward=20-Nov-2024')\n",
    "time.sleep(2)  # Let the page load\n",
    "\n",
    "body = driver.find_element(By.TAG_NAME, \"body\")\n",
    "hide_details_TS=driver.find_elements(By.XPATH, \"//div[@class='button']\")\n",
    "if hide_details_TS:\n",
    "    hide_details_TS[0].click()\n",
    "for i in range(40):\n",
    "    buses_list_result = driver.find_elements(By.XPATH, \"//div[@class='travels lh-24 f-bold d-color']\")\n",
    "    bus_type_result = driver.find_elements(By.XPATH, \"//div[@class='bus-type f-12 m-top-16 l-color evBus']\")\n",
    "    departing_time_result = driver.find_elements(By.XPATH, \"//div[@class='dp-time f-19 d-color f-bold']\")\n",
    "    reaching_time_result = driver.find_elements(By.XPATH, \"//div[@class='bp-time f-19 d-color disp-Inline']\")\n",
    "    duration_list_result = driver.find_elements(By.XPATH, \"//div[@class='dur l-color lh-24']\")\n",
    "    star_rating_result = driver.find_elements(By.XPATH, \"//div[@class='rating-sec lh-24']\")\n",
    "    price_result = driver.find_elements(By.XPATH, \"//div[@class='fare d-block']\")\n",
    "    seats_available_result = driver.find_elements(By.XPATH, \"//div[@class='seat-left m-top-30']\")\n",
    "    time.sleep(1)\n",
    "    body.send_keys(Keys.PAGE_DOWN)\n",
    "    time.sleep(1)\n",
    "\n",
    "for i in buses_list_result:\n",
    "    buses_list.append(i.text)\n",
    "for i in bus_type_result:\n",
    "    bus_type_list.append(i.text)\n",
    "for i in departing_time_result:\n",
    "    departing_time_list.append(i.text)\n",
    "for i in reaching_time_result:\n",
    "    reaching_time_list.append(i.text)\n",
    "for i in duration_list_result:\n",
    "    duration_list.append(i.text)\n",
    "for i in star_rating_result:\n",
    "    star_rating_list.append(i.text)\n",
    "for i in price_result:\n",
    "    price_list.append(i.text)\n",
    "for i in seats_available_result:\n",
    "    seats_available_list.append(i.text)\n"
   ]
  },
  {
   "cell_type": "code",
   "execution_count": 14,
   "metadata": {},
   "outputs": [
    {
     "data": {
      "text/plain": [
       "37"
      ]
     },
     "execution_count": 14,
     "metadata": {},
     "output_type": "execute_result"
    }
   ],
   "source": [
    "no_of_buses=len(buses_list)\n",
    "no_of_buses"
   ]
  },
  {
   "cell_type": "code",
   "execution_count": 15,
   "metadata": {},
   "outputs": [],
   "source": [
    "\n",
    "for i in range(no_of_buses):\n",
    "    route_name.append(\"Khammam to Hyderabad\")\n",
    "    route_link.append(\"https://www.redbus.in/bus-tickets/khammam-to-hyderabad\")\n",
    "    "
   ]
  },
  {
   "cell_type": "code",
   "execution_count": 16,
   "metadata": {},
   "outputs": [
    {
     "data": {
      "text/plain": [
       "37"
      ]
     },
     "execution_count": 16,
     "metadata": {},
     "output_type": "execute_result"
    }
   ],
   "source": [
    "len(route_name)"
   ]
  },
  {
   "cell_type": "code",
   "execution_count": 17,
   "metadata": {},
   "outputs": [],
   "source": [
    " # Let the page load\n",
    "import time\n",
    "from selenium import webdriver\n",
    "from selenium.webdriver.common.by import By\n",
    "from selenium.webdriver.common.keys import Keys\n",
    "\n",
    "driver = webdriver.Chrome()  # Optional argument, if not specified will search path.\n",
    "driver.get('https://www.redbus.in/bus-tickets/hyderabad-to-vijayawada?fromCityId=124&toCityId=134&fromCityName=Hyderabad&toCityName=Vijayawada&busType=Any&onward=20-Nov-2024')\n",
    "time.sleep(2)  # Let the page load\n",
    "\n",
    "body = driver.find_element(By.TAG_NAME, \"body\")\n",
    "hide_details_TS=driver.find_elements(By.XPATH, \"//div[@class='button']\")\n",
    "if hide_details_TS:\n",
    "    hide_details_TS[0].click()\n",
    "for i in range(500):\n",
    "    buses_list_result = driver.find_elements(By.XPATH, \"//div[@class='travels lh-24 f-bold d-color']\")\n",
    "    bus_type_result = driver.find_elements(By.XPATH, \"//div[@class='bus-type f-12 m-top-16 l-color evBus']\")\n",
    "    departing_time_result = driver.find_elements(By.XPATH, \"//div[@class='dp-time f-19 d-color f-bold']\")\n",
    "    reaching_time_result = driver.find_elements(By.XPATH, \"//div[@class='bp-time f-19 d-color disp-Inline']\")\n",
    "    duration_list_result = driver.find_elements(By.XPATH, \"//div[@class='dur l-color lh-24']\")\n",
    "    star_rating_result = driver.find_elements(By.XPATH, \"//div[@class='rating-sec lh-24']\")\n",
    "    price_result = driver.find_elements(By.XPATH, \"//div[@class='fare d-block']\")\n",
    "    seats_available_result = driver.find_elements(By.XPATH, \"//div[@class='seat-left m-top-30']\")\n",
    "    body.send_keys(Keys.PAGE_DOWN)\n",
    "count=0\n",
    "for i in buses_list_result:\n",
    "    buses_list.append(i.text)\n",
    "    count+=1\n",
    "for i in bus_type_result:\n",
    "    bus_type_list.append(i.text)\n",
    "for i in departing_time_result:\n",
    "    departing_time_list.append(i.text)\n",
    "for i in reaching_time_result:\n",
    "    reaching_time_list.append(i.text)\n",
    "for i in duration_list_result:\n",
    "    duration_list.append(i.text)\n",
    "for i in star_rating_result:\n",
    "    star_rating_list.append(i.text)\n",
    "for i in price_result:\n",
    "    price_list.append(i.text)\n",
    "for i in seats_available_result:\n",
    "    seats_available_list.append(i.text)\n"
   ]
  },
  {
   "cell_type": "code",
   "execution_count": 18,
   "metadata": {},
   "outputs": [
    {
     "data": {
      "text/plain": [
       "431"
      ]
     },
     "execution_count": 18,
     "metadata": {},
     "output_type": "execute_result"
    }
   ],
   "source": [
    "len(buses_list)"
   ]
  },
  {
   "cell_type": "code",
   "execution_count": 19,
   "metadata": {},
   "outputs": [],
   "source": [
    "for i in range(count):\n",
    "    route_name.append(\"Hyderabad to Vijayawada\")\n",
    "    route_link.append(\"https://www.redbus.in/bus-tickets/hyderabad-to-vijayawada\")"
   ]
  },
  {
   "cell_type": "code",
   "execution_count": 20,
   "metadata": {},
   "outputs": [
    {
     "data": {
      "text/plain": [
       "431"
      ]
     },
     "execution_count": 20,
     "metadata": {},
     "output_type": "execute_result"
    }
   ],
   "source": [
    "len(route_name)"
   ]
  },
  {
   "cell_type": "markdown",
   "metadata": {},
   "source": [
    "Hyderabad to Khammam"
   ]
  },
  {
   "cell_type": "code",
   "execution_count": 21,
   "metadata": {},
   "outputs": [],
   "source": [
    "\n",
    " # Let the page load\n",
    "import time\n",
    "from selenium import webdriver\n",
    "from selenium.webdriver.common.by import By\n",
    "from selenium.webdriver.common.keys import Keys\n",
    "\n",
    "driver = webdriver.Chrome()  # Optional argument, if not specified will search path.\n",
    "driver.get('https://www.redbus.in/bus-tickets/hyderabad-to-khammam?fromCityId=124&toCityId=401&fromCityName=Hyderabad&toCityName=Khammam&busType=Any&onward=20-Nov-2024')\n",
    "time.sleep(2)  # Let the page load\n",
    "\n",
    "body = driver.find_element(By.TAG_NAME, \"body\")\n",
    "hide_details_TS=driver.find_elements(By.XPATH, \"//div[@class='button']\")\n",
    "if hide_details_TS:\n",
    "    hide_details_TS[0].click()\n",
    "for i in range(50):\n",
    "    buses_list_result = driver.find_elements(By.XPATH, \"//div[@class='travels lh-24 f-bold d-color']\")\n",
    "    bus_type_result = driver.find_elements(By.XPATH, \"//div[@class='bus-type f-12 m-top-16 l-color evBus']\")\n",
    "    departing_time_result = driver.find_elements(By.XPATH, \"//div[@class='dp-time f-19 d-color f-bold']\")\n",
    "    reaching_time_result = driver.find_elements(By.XPATH, \"//div[@class='bp-time f-19 d-color disp-Inline']\")\n",
    "    duration_list_result = driver.find_elements(By.XPATH, \"//div[@class='dur l-color lh-24']\")\n",
    "    star_rating_result = driver.find_elements(By.XPATH, \"//div[@class='rating-sec lh-24']\")\n",
    "    price_result = driver.find_elements(By.XPATH, \"//div[@class='fare d-block']\")\n",
    "    seats_available_result = driver.find_elements(By.XPATH, \"//div[@class='seat-left m-top-30']\")\n",
    "    body.send_keys(Keys.PAGE_DOWN)\n",
    "\n",
    "count=0\n",
    "for i in buses_list_result:\n",
    "    buses_list.append(i.text)\n",
    "    count+=1\n",
    "for i in bus_type_result:\n",
    "    bus_type_list.append(i.text)\n",
    "for i in departing_time_result:\n",
    "    departing_time_list.append(i.text)\n",
    "for i in reaching_time_result:\n",
    "    reaching_time_list.append(i.text)\n",
    "for i in duration_list_result:\n",
    "    duration_list.append(i.text)\n",
    "for i in star_rating_result:\n",
    "    star_rating_list.append(i.text)\n",
    "for i in price_result:\n",
    "    price_list.append(i.text)\n",
    "for i in seats_available_result:\n",
    "    seats_available_list.append(i.text)\n"
   ]
  },
  {
   "cell_type": "code",
   "execution_count": 22,
   "metadata": {},
   "outputs": [
    {
     "data": {
      "text/plain": [
       "489"
      ]
     },
     "execution_count": 22,
     "metadata": {},
     "output_type": "execute_result"
    }
   ],
   "source": [
    "len(buses_list)"
   ]
  },
  {
   "cell_type": "code",
   "execution_count": 23,
   "metadata": {},
   "outputs": [],
   "source": [
    "for i in range(count):\n",
    "    route_name.append(\"Hyderabad to Khammam\")\n",
    "    route_link.append(\"https://www.redbus.in/bus-tickets/hyderabad-to-khammam\")"
   ]
  },
  {
   "cell_type": "markdown",
   "metadata": {},
   "source": [
    "Hyderabad to Srisailam"
   ]
  },
  {
   "cell_type": "code",
   "execution_count": 24,
   "metadata": {},
   "outputs": [],
   "source": [
    "\n",
    " # Let the page load\n",
    "import time\n",
    "from selenium import webdriver\n",
    "from selenium.webdriver.common.by import By\n",
    "from selenium.webdriver.common.keys import Keys\n",
    "\n",
    "driver = webdriver.Chrome()  # Optional argument, if not specified will search path.\n",
    "driver.get('https://www.redbus.in/bus-tickets/hyderabad-to-srisailam?fromCityId=124&toCityId=70628&fromCityName=Hyderabad&toCityName=Srisailam&busType=Any&onward=22-Nov-2024')\n",
    "time.sleep(2)  # Let the page load\n",
    "\n",
    "body = driver.find_element(By.TAG_NAME, \"body\")\n",
    "hide_details_TS=driver.find_elements(By.XPATH, \"//div[@class='button']\")\n",
    "if hide_details_TS:\n",
    "    hide_details_TS[0].click()\n",
    "for i in range(100):\n",
    "    buses_list_result = driver.find_elements(By.XPATH, \"//div[@class='travels lh-24 f-bold d-color']\")\n",
    "    bus_type_result = driver.find_elements(By.XPATH, \"//div[@class='bus-type f-12 m-top-16 l-color evBus']\")\n",
    "    departing_time_result = driver.find_elements(By.XPATH, \"//div[@class='dp-time f-19 d-color f-bold']\")\n",
    "    reaching_time_result = driver.find_elements(By.XPATH, \"//div[@class='bp-time f-19 d-color disp-Inline']\")\n",
    "    duration_list_result = driver.find_elements(By.XPATH, \"//div[@class='dur l-color lh-24']\")\n",
    "    star_rating_result = driver.find_elements(By.XPATH, \"//div[@class='rating-sec lh-24']\")\n",
    "    price_result = driver.find_elements(By.XPATH, \"//div[@class='fare d-block']\")\n",
    "    seats_available_result = driver.find_elements(By.XPATH, \"//div[@class='seat-left m-top-30']\")\n",
    "    body.send_keys(Keys.PAGE_DOWN)\n",
    "count=0\n",
    "for i in buses_list_result:\n",
    "    buses_list.append(i.text)\n",
    "    count+=1\n",
    "for i in bus_type_result:\n",
    "    bus_type_list.append(i.text)\n",
    "for i in departing_time_result:\n",
    "    departing_time_list.append(i.text)\n",
    "for i in reaching_time_result:\n",
    "    reaching_time_list.append(i.text)\n",
    "for i in duration_list_result:\n",
    "    duration_list.append(i.text)\n",
    "for i in star_rating_result:\n",
    "    star_rating_list.append(i.text)\n",
    "for i in price_result:\n",
    "    price_list.append(i.text)\n",
    "for i in seats_available_result:\n",
    "    seats_available_list.append(i.text)\n"
   ]
  },
  {
   "cell_type": "code",
   "execution_count": 25,
   "metadata": {},
   "outputs": [
    {
     "data": {
      "text/plain": [
       "537"
      ]
     },
     "execution_count": 25,
     "metadata": {},
     "output_type": "execute_result"
    }
   ],
   "source": [
    "len(buses_list)"
   ]
  },
  {
   "cell_type": "code",
   "execution_count": 26,
   "metadata": {},
   "outputs": [],
   "source": [
    "for i in range(count):\n",
    "    route_name.append(\"Hyderabad to Srisailam\")\n",
    "    route_link.append(\"https://www.redbus.in/bus-tickets/hyderabad-to-srisailam\")"
   ]
  },
  {
   "cell_type": "code",
   "execution_count": 27,
   "metadata": {},
   "outputs": [
    {
     "data": {
      "text/plain": [
       "537"
      ]
     },
     "execution_count": 27,
     "metadata": {},
     "output_type": "execute_result"
    }
   ],
   "source": [
    "len(route_name)"
   ]
  },
  {
   "cell_type": "markdown",
   "metadata": {},
   "source": [
    "Karimnagar to Hyderabad"
   ]
  },
  {
   "cell_type": "code",
   "execution_count": 28,
   "metadata": {},
   "outputs": [],
   "source": [
    "\n",
    " # Let the page load\n",
    "import time\n",
    "from selenium import webdriver\n",
    "from selenium.webdriver.common.by import By\n",
    "from selenium.webdriver.common.keys import Keys\n",
    "\n",
    "driver = webdriver.Chrome()  # Optional argument, if not specified will search path.\n",
    "driver.get('https://www.redbus.in/bus-tickets/hyderabad-to-mancherial?fromCityId=124&toCityId=95460&fromCityName=Hyderabad&toCityName=Mancherial&busType=Any&srcCountry=IND&destCountry=IND&onward=22-Nov-2024')\n",
    "time.sleep(2)  # Let the page load\n",
    "\n",
    "body = driver.find_element(By.TAG_NAME, \"body\")\n",
    "hide_details_TS=driver.find_elements(By.XPATH, \"//div[@class='button']\")\n",
    "if hide_details_TS:\n",
    "    hide_details_TS[0].click()\n",
    "for i in range(100):\n",
    "    buses_list_result = driver.find_elements(By.XPATH, \"//div[@class='travels lh-24 f-bold d-color']\")\n",
    "    bus_type_result = driver.find_elements(By.XPATH, \"//div[@class='bus-type f-12 m-top-16 l-color evBus']\")\n",
    "    departing_time_result = driver.find_elements(By.XPATH, \"//div[@class='dp-time f-19 d-color f-bold']\")\n",
    "    reaching_time_result = driver.find_elements(By.XPATH, \"//div[@class='bp-time f-19 d-color disp-Inline']\")\n",
    "    duration_list_result = driver.find_elements(By.XPATH, \"//div[@class='dur l-color lh-24']\")\n",
    "    star_rating_result = driver.find_elements(By.XPATH, \"//div[@class='rating-sec lh-24']\")\n",
    "    price_result = driver.find_elements(By.XPATH, \"//div[@class='fare d-block']\")\n",
    "    seats_available_result = driver.find_elements(By.XPATH, \"//div[@class='seat-left m-top-30']\")\n",
    "    body.send_keys(Keys.PAGE_DOWN)\n",
    "count=0\n",
    "for i in buses_list_result:\n",
    "    buses_list.append(i.text)\n",
    "    count+=1\n",
    "for i in bus_type_result:\n",
    "    bus_type_list.append(i.text)\n",
    "for i in departing_time_result:\n",
    "    departing_time_list.append(i.text)\n",
    "for i in reaching_time_result:\n",
    "    reaching_time_list.append(i.text)\n",
    "for i in duration_list_result:\n",
    "    duration_list.append(i.text)\n",
    "for i in star_rating_result:\n",
    "    star_rating_list.append(i.text)\n",
    "for i in price_result:\n",
    "    price_list.append(i.text)\n",
    "for i in seats_available_result:\n",
    "    seats_available_list.append(i.text)\n"
   ]
  },
  {
   "cell_type": "code",
   "execution_count": 29,
   "metadata": {},
   "outputs": [
    {
     "data": {
      "text/plain": [
       "590"
      ]
     },
     "execution_count": 29,
     "metadata": {},
     "output_type": "execute_result"
    }
   ],
   "source": [
    "len(buses_list)"
   ]
  },
  {
   "cell_type": "code",
   "execution_count": 30,
   "metadata": {},
   "outputs": [],
   "source": [
    "for i in range(count):\n",
    "    route_name.append(\"Hyderabad to Mancherial\")\n",
    "    route_link.append(\"https://www.redbus.in/bus-tickets/hyderabad-to-mancherial\")"
   ]
  },
  {
   "cell_type": "markdown",
   "metadata": {},
   "source": [
    "Hyderabad to Warangal"
   ]
  },
  {
   "cell_type": "code",
   "execution_count": 31,
   "metadata": {},
   "outputs": [],
   "source": [
    "\n",
    " # Let the page load\n",
    "import time\n",
    "from selenium import webdriver\n",
    "from selenium.webdriver.common.by import By\n",
    "from selenium.webdriver.common.keys import Keys\n",
    "\n",
    "driver = webdriver.Chrome()  # Optional argument, if not specified will search path.\n",
    "driver.get('https://www.redbus.in/bus-tickets/hyderabad-to-warangal?fromCityId=124&toCityId=95479&fromCityName=Hyderabad&toCityName=Warangal&busType=Any&srcCountry=null&destCountry=IND&onward=22-Nov-2024')\n",
    "time.sleep(2)  # Let the page load\n",
    "\n",
    "body = driver.find_element(By.TAG_NAME, \"body\")\n",
    "hide_details_TS=driver.find_elements(By.XPATH, \"//div[@class='button']\")\n",
    "if hide_details_TS:\n",
    "    hide_details_TS[0].click()\n",
    "for i in range(100):\n",
    "    buses_list_result = driver.find_elements(By.XPATH, \"//div[@class='travels lh-24 f-bold d-color']\")\n",
    "    bus_type_result = driver.find_elements(By.XPATH, \"//div[@class='bus-type f-12 m-top-16 l-color evBus']\")\n",
    "    departing_time_result = driver.find_elements(By.XPATH, \"//div[@class='dp-time f-19 d-color f-bold']\")\n",
    "    reaching_time_result = driver.find_elements(By.XPATH, \"//div[@class='bp-time f-19 d-color disp-Inline']\")\n",
    "    duration_list_result = driver.find_elements(By.XPATH, \"//div[@class='dur l-color lh-24']\")\n",
    "    star_rating_result = driver.find_elements(By.XPATH, \"//div[@class='rating-sec lh-24']\")\n",
    "    price_result = driver.find_elements(By.XPATH, \"//div[@class='fare d-block']\")\n",
    "    seats_available_result = driver.find_elements(By.XPATH, \"//div[@class='seat-left m-top-30']\")\n",
    "    body.send_keys(Keys.PAGE_DOWN)\n",
    "count=0\n",
    "for i in buses_list_result:\n",
    "    buses_list.append(i.text)\n",
    "    count+=1\n",
    "for i in bus_type_result:\n",
    "    bus_type_list.append(i.text)\n",
    "for i in departing_time_result:\n",
    "    departing_time_list.append(i.text)\n",
    "for i in reaching_time_result:\n",
    "    reaching_time_list.append(i.text)\n",
    "for i in duration_list_result:\n",
    "    duration_list.append(i.text)\n",
    "for i in star_rating_result:\n",
    "    star_rating_list.append(i.text)\n",
    "for i in price_result:\n",
    "    price_list.append(i.text)\n",
    "for i in seats_available_result:\n",
    "    seats_available_list.append(i.text)\n"
   ]
  },
  {
   "cell_type": "code",
   "execution_count": 32,
   "metadata": {},
   "outputs": [
    {
     "data": {
      "text/plain": [
       "619"
      ]
     },
     "execution_count": 32,
     "metadata": {},
     "output_type": "execute_result"
    }
   ],
   "source": [
    "len(buses_list)"
   ]
  },
  {
   "cell_type": "code",
   "execution_count": 33,
   "metadata": {},
   "outputs": [],
   "source": [
    "for i in range(count):\n",
    "    route_name.append(\"Hyderabad to Warangal\")\n",
    "    route_link.append(\"https://www.redbus.in/bus-tickets/hyderabad-to-warangal\")"
   ]
  },
  {
   "cell_type": "code",
   "execution_count": 34,
   "metadata": {},
   "outputs": [
    {
     "name": "stdout",
     "output_type": "stream",
     "text": [
      "427\n"
     ]
    }
   ],
   "source": [
    "min_value=min(len(buses_list),len(bus_type_list),len(departing_time_list),len(reaching_time_list),len(duration_list),len(star_rating_list),len(price_list),len(seats_available_list),len(route_name),len(route_link))\n",
    "print(min_value)"
   ]
  },
  {
   "cell_type": "code",
   "execution_count": 52,
   "metadata": {},
   "outputs": [],
   "source": [
    "busname=[]\n",
    "bustype=[]\n",
    "departing_time=[]\n",
    "duration=[]\n",
    "reaching_time=[]\n",
    "star_rating=[]\n",
    "price=[]\n",
    "seats_available=[]\n",
    "route_link1=[]\n",
    "route_name1=[]\n",
    "for i in range(1,min_value):\n",
    "    busname.append(buses_list[i])\n",
    "    bustype.append(bus_type_list[i])\n",
    "    departing_time.append(departing_time_list[i])\n",
    "    duration.append(duration_list[i])\n",
    "    reaching_time.append(reaching_time_list[i])\n",
    "    star_rating.append(star_rating_list[i])\n",
    "    price.append(price_list[i])\n",
    "    seats_available.append(seats_available_list[i])\n",
    "    route_link1.append(route_link[i])\n",
    "    route_name1.append(route_name[i])\n",
    "\n",
    "    "
   ]
  },
  {
   "cell_type": "code",
   "execution_count": 54,
   "metadata": {},
   "outputs": [
    {
     "name": "stdout",
     "output_type": "stream",
     "text": [
      "                  route_name  \\\n",
      "0       Khammam to Hyderabad   \n",
      "1       Khammam to Hyderabad   \n",
      "2       Khammam to Hyderabad   \n",
      "3       Khammam to Hyderabad   \n",
      "4       Khammam to Hyderabad   \n",
      "..                       ...   \n",
      "421  Hyderabad to Vijayawada   \n",
      "422  Hyderabad to Vijayawada   \n",
      "423  Hyderabad to Vijayawada   \n",
      "424  Hyderabad to Vijayawada   \n",
      "425  Hyderabad to Vijayawada   \n",
      "\n",
      "                                            route_link  \\\n",
      "0    https://www.redbus.in/bus-tickets/khammam-to-h...   \n",
      "1    https://www.redbus.in/bus-tickets/khammam-to-h...   \n",
      "2    https://www.redbus.in/bus-tickets/khammam-to-h...   \n",
      "3    https://www.redbus.in/bus-tickets/khammam-to-h...   \n",
      "4    https://www.redbus.in/bus-tickets/khammam-to-h...   \n",
      "..                                                 ...   \n",
      "421  https://www.redbus.in/bus-tickets/hyderabad-to...   \n",
      "422  https://www.redbus.in/bus-tickets/hyderabad-to...   \n",
      "423  https://www.redbus.in/bus-tickets/hyderabad-to...   \n",
      "424  https://www.redbus.in/bus-tickets/hyderabad-to...   \n",
      "425  https://www.redbus.in/bus-tickets/hyderabad-to...   \n",
      "\n",
      "                                busname                         bustype  \\\n",
      "0                Siri Tours and Travels  Non A/C Seater / Sleeper (2+1)   \n",
      "1              Bharathi Tours & Travels  Non A/C Seater / Sleeper (2+1)   \n",
      "2              Bharathi Tours & Travels               A/C Sleeper (2+1)   \n",
      "3                      Sri Rama Travels      A/C Seater / Sleeper (2+1)   \n",
      "4              Mythri Tours And Travels               A/C Sleeper (2+1)   \n",
      "..                                  ...                             ...   \n",
      "421  Elegance Tours And Travels Pvt Ltd   Bharat Benz A/C Sleeper (2+1)   \n",
      "422                         SSK Travels               A/C Sleeper (2+1)   \n",
      "423  Elegance Tours And Travels Pvt Ltd   Bharat Benz A/C Sleeper (2+1)   \n",
      "424                   Sai Durga Travels      A/C Seater / Sleeper (2+1)   \n",
      "425            Naveen Tours and Travels        A/C Seater/Sleeper (2+1)   \n",
      "\n",
      "    duparting_time duration reaching_time star_rating     Price  \\\n",
      "0            00:40  05h 50m         06:30         3.5   INR 400   \n",
      "1            00:40  04h 20m         05:00         4.5       405   \n",
      "2            00:50  04h 40m         05:30         4.5       531   \n",
      "3            01:30  05h 15m         06:45         4.1   INR 610   \n",
      "4            01:30  05h 00m         06:30         4.8       629   \n",
      "..             ...      ...           ...         ...       ...   \n",
      "421          20:35  06h 10m         02:45         3.7      1520   \n",
      "422          22:50  05h 25m         04:15         4.5  INR 2999   \n",
      "423          20:35  06h 10m         02:45         4.7      1520   \n",
      "424          22:35  06h 25m         05:00         4.5  INR 5000   \n",
      "425          20:50  07h 25m         04:15         3.6  INR 3999   \n",
      "\n",
      "        Seats Available   ID  \n",
      "0    31 Seats available    1  \n",
      "1    41 Seats available    2  \n",
      "2    30 Seats available    3  \n",
      "3    32 Seats available    4  \n",
      "4    32 Seats available    5  \n",
      "..                  ...  ...  \n",
      "421  30 Seats available  422  \n",
      "422  33 Seats available  423  \n",
      "423  20 Seats available  424  \n",
      "424  32 Seats available  425  \n",
      "425  22 Seats available  426  \n",
      "\n",
      "[426 rows x 11 columns]\n"
     ]
    }
   ],
   "source": [
    "import pandas as pd\n",
    "\n",
    "# Dictionary with data\n",
    "data = {\n",
    "    'route_name': route_name1,\n",
    "    'route_link': route_link1,\n",
    "    'busname':busname,\n",
    "    'bustype':bustype,\n",
    "    'duparting_time': departing_time,\n",
    "    'duration':duration,\n",
    "    'reaching_time': reaching_time,\n",
    "    'star_rating': star_rating,\n",
    "    'Price': price,\n",
    "    'Seats Available': seats_available\n",
    "}\n",
    "\n",
    "# Convert to DataFrame\n",
    "df = pd.DataFrame(data)\n",
    "\n",
    "# Add automated ID column\n",
    "df['ID'] = range(1, len(df) + 1)\n",
    "\n",
    "print(df)\n"
   ]
  },
  {
   "cell_type": "code",
   "execution_count": 56,
   "metadata": {},
   "outputs": [],
   "source": [
    "df.to_csv(r'C:/Users/Dell/OneDrive/Desktop/streamlit/telanagana_buses.csv', index=False)\n"
   ]
  },
  {
   "cell_type": "code",
   "execution_count": null,
   "metadata": {},
   "outputs": [],
   "source": []
  }
 ],
 "metadata": {
  "kernelspec": {
   "display_name": "base",
   "language": "python",
   "name": "python3"
  },
  "language_info": {
   "codemirror_mode": {
    "name": "ipython",
    "version": 3
   },
   "file_extension": ".py",
   "mimetype": "text/x-python",
   "name": "python",
   "nbconvert_exporter": "python",
   "pygments_lexer": "ipython3",
   "version": "3.12.4"
  }
 },
 "nbformat": 4,
 "nbformat_minor": 2
}
