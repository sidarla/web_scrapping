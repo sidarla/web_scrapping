{
 "cells": [
  {
   "cell_type": "code",
   "execution_count": 1,
   "metadata": {},
   "outputs": [],
   "source": [
    "import time\n",
    "from selenium import webdriver\n",
    "from selenium.webdriver.common.by import By\n",
    "from selenium.webdriver.common.keys import Keys\n",
    "\n",
    "driver = webdriver.Chrome()  # Optional argument, if not specified will search path.\n",
    "driver.get('https://www.redbus.in/online-booking/kaac-transport')\n",
    "time.sleep(2)  # Let the page load\n",
    "\n",
    "body = driver.find_element(By.TAG_NAME, \"body\")\n",
    "telangana_buses_list=[]\n",
    "telangana_buses_links=[]\n",
    "\n",
    "for page_num in range(1, 4):  # Loop over pages (or scroll actions)\n",
    "    # Get all elements with class 'route'\n",
    "    result1 = driver.find_elements(By.CSS_SELECTOR, \"a[class='route']\")\n",
    "    \n",
    "    # Print the text of each element found\n",
    "    for element in result1:\n",
    "        telangana_buses_list.append(element.text)\n",
    "        telangana_buses_links.append(element.get_attribute('href'))\n",
    "    \n",
    "    # Scroll down the page\n",
    "    body.send_keys(Keys.PAGE_DOWN)\n",
    "    time.sleep(2)  # Give some time for new elements to load\n",
    "    \n",
    "    # Find an element matching the XPATH and click (if needed)\n",
    "    result = driver.find_elements(By.XPATH, f\"//div[contains(text(),'{page_num+1}')]\")\n",
    "    #print(result)\n",
    "    if result:\n",
    "        result[0].click()  # Click the first element found with matching XPATH\n",
    "\n",
    "#driver.quit()  # Close the browser after task completion\n"
   ]
  },
  {
   "cell_type": "code",
   "execution_count": 2,
   "metadata": {},
   "outputs": [
    {
     "name": "stdout",
     "output_type": "stream",
     "text": [
      "https://www.redbus.in/bus-tickets/diphu-to-guwahati\n",
      "https://www.redbus.in/bus-tickets/bokolia-assam-to-guwahati\n",
      "https://www.redbus.in/bus-tickets/guwahati-to-diphu\n",
      "https://www.redbus.in/bus-tickets/dokmoka-to-guwahati\n",
      "https://www.redbus.in/bus-tickets/langhin-assam-to-guwahati\n",
      "https://www.redbus.in/bus-tickets/guwahati-to-dokmoka\n",
      "https://www.redbus.in/bus-tickets/guwahati-to-langhin-assam\n",
      "https://www.redbus.in/bus-tickets/guwahati-to-bokolia-assam\n",
      "https://www.redbus.in/bus-tickets/diphu-to-hamren\n",
      "https://www.redbus.in/bus-tickets/manja-assam-to-guwahati\n",
      "https://www.redbus.in/bus-tickets/guwahati-to-manja-assam\n",
      "https://www.redbus.in/bus-tickets/diphu-to-jagiroad\n",
      "https://www.redbus.in/bus-tickets/guwahati-to-hamren\n",
      "https://www.redbus.in/bus-tickets/diphu-to-donka\n",
      "https://www.redbus.in/bus-tickets/hamren-to-diphu\n",
      "https://www.redbus.in/bus-tickets/donka-to-diphu\n",
      "https://www.redbus.in/bus-tickets/guwahati-to-manja-assam\n",
      "https://www.redbus.in/bus-tickets/diphu-to-jagiroad\n",
      "https://www.redbus.in/bus-tickets/guwahati-to-hamren\n",
      "https://www.redbus.in/bus-tickets/diphu-to-donka\n",
      "https://www.redbus.in/bus-tickets/hamren-to-diphu\n",
      "https://www.redbus.in/bus-tickets/donka-to-diphu\n"
     ]
    }
   ],
   "source": [
    "for i in telangana_buses_links:\n",
    "    print(i)\n"
   ]
  },
  {
   "cell_type": "code",
   "execution_count": 3,
   "metadata": {},
   "outputs": [
    {
     "name": "stdout",
     "output_type": "stream",
     "text": [
      "Diphu to Guwahati\n",
      "Bokolia (assam) to Guwahati\n",
      "Guwahati to Diphu\n",
      "Dokmoka to Guwahati\n",
      "Langhin (assam) to Guwahati\n",
      "Guwahati to Dokmoka\n",
      "Guwahati to Langhin (assam)\n",
      "Guwahati to Bokolia (assam)\n",
      "Diphu to Hamren\n",
      "Manja (assam) to Guwahati\n",
      "Guwahati to Manja (assam)\n",
      "Diphu to Jagiroad\n",
      "Guwahati to Hamren\n",
      "Diphu to Donka\n",
      "Hamren to Diphu\n",
      "Donka to Diphu\n",
      "Guwahati to Manja (assam)\n",
      "Diphu to Jagiroad\n",
      "Guwahati to Hamren\n",
      "Diphu to Donka\n",
      "Hamren to Diphu\n",
      "Donka to Diphu\n"
     ]
    }
   ],
   "source": [
    "for i in telangana_buses_list:\n",
    "    print(i)"
   ]
  },
  {
   "cell_type": "code",
   "execution_count": 15,
   "metadata": {},
   "outputs": [],
   "source": [
    "\n",
    " # Let the page load\n",
    "import time\n",
    "from selenium import webdriver\n",
    "from selenium.webdriver.common.by import By\n",
    "from selenium.webdriver.common.keys import Keys\n",
    "\n",
    "driver = webdriver.Chrome()  # Optional argument, if not specified will search path.\n",
    "driver.get('https://www.redbus.in/bus-tickets/guwahati-to-manja-assam?fromCityId=74701&toCityId=222045&fromCityName=Guwahati&toCityName=Manja%20(assam)&busType=Any&srcCountry=IND&destCountry=null&onward=22-Nov-2024')\n",
    "time.sleep(2)  # Let the page load\n",
    "\n",
    "body = driver.find_element(By.TAG_NAME, \"body\")\n",
    "#hide_details_TS=driver.find_elements(By.XPATH, \"//div[@class='button']\")\n",
    "\n",
    "#if hide_details_TS:\n",
    "    #hide_details_TS[0].click()\n",
    "\n",
    "buses_list_result = driver.find_elements(By.XPATH, \"//div[@class='travels lh-24 f-bold d-color']\")\n",
    "bus_type_result = driver.find_elements(By.XPATH, \"//div[@class='bus-type f-12 m-top-16 l-color evBus']\")\n",
    "departing_time_result = driver.find_elements(By.XPATH, \"//div[@class='dp-time f-19 d-color f-bold']\")\n",
    "reaching_time_result = driver.find_elements(By.XPATH, \"//div[@class='bp-time f-19 d-color disp-Inline']\")\n",
    "duration_list_result = driver.find_elements(By.XPATH, \"//div[@class='dur l-color lh-24']\")\n",
    "star_rating_result = driver.find_elements(By.XPATH, \"//div[@class='rating-sec lh-24']\")\n",
    "price_result = driver.find_elements(By.XPATH, \"//div[@class='fare d-block']\")\n",
    "seats_available_result = driver.find_elements(By.XPATH, \"//div[@class='seat-left m-top-30']\")\n",
    "    #body.send_keys(Keys.PAGE_DOWN)\n",
    "buses_list=[]\n",
    "bus_type_list=[]\n",
    "departing_time_list=[]\n",
    "reaching_time_list=[]\n",
    "duration_list=[]\n",
    "star_rating_list=[]\n",
    "price_list=[]\n",
    "seats_available_list=[]\n",
    "for i in buses_list_result:\n",
    "    buses_list.append(i.text)\n",
    "for i in bus_type_result:\n",
    "    bus_type_list.append(i.text)\n",
    "for i in departing_time_result:\n",
    "    departing_time_list.append(i.text)\n",
    "for i in reaching_time_result:\n",
    "    reaching_time_list.append(i.text)\n",
    "for i in duration_list_result:\n",
    "    duration_list.append(i.text)\n",
    "for i in star_rating_result:\n",
    "    star_rating_list.append(i.text)\n",
    "for i in price_result:\n",
    "    price_list.append(i.text)\n",
    "for i in seats_available_result:\n",
    "    seats_available_list.append(i.text)\n"
   ]
  },
  {
   "cell_type": "code",
   "execution_count": 16,
   "metadata": {},
   "outputs": [
    {
     "name": "stdout",
     "output_type": "stream",
     "text": [
      "0\n"
     ]
    }
   ],
   "source": [
    "min_value=min(len(buses_list),len(bus_type_list),len(departing_time_list),len(reaching_time_list),len(duration_list),len(star_rating_list),len(price_list),len(seats_available_list))\n",
    "print(min_value)"
   ]
  },
  {
   "cell_type": "code",
   "execution_count": 11,
   "metadata": {},
   "outputs": [],
   "source": [
    "busname=[]\n",
    "bustype=[]\n",
    "departing_time=[]\n",
    "duration=[]\n",
    "reaching_time=[]\n",
    "star_rating=[]\n",
    "price=[]\n",
    "seats_available=[]\n",
    "route_link=[]\n",
    "route_name=[]\n",
    "for i in range(min_value):\n",
    "    busname.append(buses_list[i])\n",
    "    bustype.append(bus_type_list[i])\n",
    "    departing_time.append(departing_time_list[i])\n",
    "    duration.append(duration_list[i])\n",
    "    reaching_time.append(reaching_time_list[i])\n",
    "    star_rating.append(star_rating_list[i])\n",
    "    price.append(price_list[i])\n",
    "    seats_available.append(seats_available_list[i])\n",
    "    route_link.append(\"https://www.redbus.in/bus-tickets/bokolia-assam-to-guwahati\")\n",
    "    route_name.append(\"Bokolia (assam) to Guwahati\")\n",
    "\n",
    "    "
   ]
  },
  {
   "cell_type": "code",
   "execution_count": null,
   "metadata": {},
   "outputs": [
    {
     "name": "stdout",
     "output_type": "stream",
     "text": [
      "Empty DataFrame\n",
      "Columns: [route_name, route_link, busname, bustype, duparting_time, duration, reaching_time, star_rating, Price, Seats Available, ID]\n",
      "Index: []\n"
     ]
    }
   ],
   "source": [
    "import pandas as pd\n",
    "\n",
    "# Dictionary with data\n",
    "data = {\n",
    "    'route_name': route_name,\n",
    "    'route_link': route_link,\n",
    "    'busname':busname,\n",
    "    'bustype':bustype,\n",
    "    'duparting_time': departing_time,\n",
    "    'duration':duration,\n",
    "    'reaching_time': reaching_time,\n",
    "    'star_rating': star_rating,\n",
    "    'Price': price,\n",
    "    'Seats Available': seats_available\n",
    "}\n",
    "\n",
    "# Convert to DataFrame\n",
    "df = pd.DataFrame(data)\n",
    "\n",
    "# Add automated ID column\n",
    "df['ID'] = range(1, len(df) + 1) \n",
    "\n",
    "print(df)\n"
   ]
  }
 ],
 "metadata": {
  "kernelspec": {
   "display_name": "base",
   "language": "python",
   "name": "python3"
  },
  "language_info": {
   "codemirror_mode": {
    "name": "ipython",
    "version": 3
   },
   "file_extension": ".py",
   "mimetype": "text/x-python",
   "name": "python",
   "nbconvert_exporter": "python",
   "pygments_lexer": "ipython3",
   "version": "3.12.4"
  }
 },
 "nbformat": 4,
 "nbformat_minor": 2
}
